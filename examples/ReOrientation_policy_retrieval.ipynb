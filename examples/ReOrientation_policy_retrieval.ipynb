{
 "cells": [
  {
   "cell_type": "markdown",
   "metadata": {},
   "source": [
    "### Multi-model DP using Advantage function"
   ]
  },
  {
   "cell_type": "code",
   "execution_count": 1,
   "metadata": {},
   "outputs": [],
   "source": [
    "import torch\n",
    "import numpy as np\n",
    "import sys\n",
    "sys.path.append('../')\n",
    "from robust_tt import RTT\n",
    "from dyn_models.dynamic_systems_mm import Reorientation\n",
    "import numpy as np\n",
    "from tt_utils import contract_sites, get_prob_x\n",
    "\n",
    "%load_ext autoreload\n",
    "%autoreload 2"
   ]
  },
  {
   "cell_type": "code",
   "execution_count": 2,
   "metadata": {},
   "outputs": [
    {
     "data": {
      "text/plain": [
       "device(type='cuda')"
      ]
     },
     "execution_count": 2,
     "metadata": {},
     "output_type": "execute_result"
    }
   ],
   "source": [
    "device = torch.device(\"cuda\" if torch.cuda.is_available() else \"cpu\")\n",
    "device"
   ]
  },
  {
   "cell_type": "code",
   "execution_count": 3,
   "metadata": {},
   "outputs": [],
   "source": [
    "\n",
    "dt=0.01\n",
    "T = 10\n",
    "\n",
    "state_max = torch.tensor([1.1*torch.pi,5*torch.pi]).to(device) # (theta,dtheta)\n",
    "state_min = torch.tensor([0,0]).to(device)\n",
    "# state_max = torch.tensor([1.1*torch.pi,4*torch.pi]).to(device) # (theta,dtheta)\n",
    "# state_min = -1*state_max\n",
    "\n",
    "n_state = 50\n",
    "n_param = 100\n",
    "n_action = 50\n",
    "\n",
    "mass = 1.0; length=0.5; g= 9.81; coef_viscous = 0.1\n",
    "\n",
    "dtheta_init = torch.tensor([torch.pi*2]).to(device) # Initial angular velocity given by hand\n",
    "\n",
    "param_min = torch.tensor([0.2, 0.15, 0.2]).to(device) # mass, length, torsional friction coefficient\n",
    "param_max = torch.tensor([1.0, 0.4, 1.0]).to(device)\n",
    "action_max = 4*mass*g*length \n",
    "action_max = torch.tensor([action_max]).to(device) # normal force\n",
    "action_min = torch.tensor([0]).to(device)"
   ]
  },
  {
   "cell_type": "code",
   "execution_count": 4,
   "metadata": {},
   "outputs": [],
   "source": [
    "domain_state = [torch.linspace(state_min[i],state_max[i],n_state).to(device) for i in range(len(state_max))]\n",
    "domain_param = [torch.linspace(param_min[i],param_max[i],n_param).to(device) for i in range(3)]\n",
    "domain_state_param = domain_state + domain_param\n",
    "\n",
    "domain_action = [torch.linspace(action_min[i],action_max[i],n_action).to(device) for i in range(len(action_max))]\n",
    "domain_state_action  = domain_state + domain_action"
   ]
  },
  {
   "cell_type": "code",
   "execution_count": 5,
   "metadata": {},
   "outputs": [],
   "source": [
    "w_goal=1.0\n",
    "w_action=0.01\n",
    "w_scale = 1\n",
    "sys = Reorientation(state_min=state_min, state_max=state_max, action_max=action_max, action_min=action_min, dt=dt, w_scale=w_scale, w_goal=w_goal, w_action=w_action, device=device)\n",
    "\n"
   ]
  },
  {
   "cell_type": "code",
   "execution_count": 6,
   "metadata": {},
   "outputs": [],
   "source": [
    "def forward_model(state_param,action):\n",
    "    return sys.forward_simulate(state_param,action)\n",
    "\n",
    "def reward(state_param,action):\n",
    "    rewards = sys.reward_state_action(state_param,action)\n",
    "    return rewards\n",
    "\n"
   ]
  },
  {
   "cell_type": "code",
   "execution_count": 7,
   "metadata": {},
   "outputs": [],
   "source": [
    "n_test = 100\n",
    "dim_state = len(domain_state)\n",
    "init_state = torch.zeros((n_test,dim_state))\n",
    "for i in range(dim_state):\n",
    "    init_state[:,i] = state_min[i] + torch.rand(n_test).clip(0.0,0.75).to(device)*(state_max[i]-state_min[i])\n",
    "state = init_state.to(device)\n",
    "# state[:, 0] = torch.rand(n_test).to(device)*(state_max[0])\n",
    "state[0, 0] = torch.zeros_like(state[0, 0])\n",
    "state[:, 1] = torch.ones_like(state[:, 1])*(state_max[1])\n"
   ]
  },
  {
   "cell_type": "code",
   "execution_count": 8,
   "metadata": {},
   "outputs": [],
   "source": [
    "rtt = RTT(domain_state=domain_state_param, domain_action=domain_action, domain_param=domain_param, reward=reward, \n",
    "                forward_model=forward_model, gamma=0.999, n_steps=1,\n",
    "                rmax_v=100, rmax_a=100, nswp_v=10, nswp_a=10, \n",
    "                kickrank_v=10, kickrank_a=10,\n",
    "                max_batch_v=10**4,max_batch_a=10**5,\n",
    "                eps_cross_v=1e-3, \n",
    "                eps_cross_a=1e-3,\n",
    "                eps_round_v=1e-3, \n",
    "                eps_round_a=1e-3, \n",
    "                n_samples=1, normalize_reward=False,\n",
    "                verbose=True,\n",
    "                device=device) # action = 'deterministic_tt', 'stochastic_tt', 'random'"
   ]
  },
  {
   "cell_type": "code",
   "execution_count": 11,
   "metadata": {},
   "outputs": [
    {
     "name": "stdout",
     "output_type": "stream",
     "text": [
      ".....................................................\n",
      "Computing Advantage Fcn\n",
      ".....................................................\n",
      "cross device is cuda\n",
      "Cross-approximation over a 6D domain containing 1.25e+11 grid points:\n",
      "iter: 0  | eps: 3.826e-01 | time:   0.0555 | largest rank:   1\n",
      "iter: 1  | eps: 1.528e-01 | time:   0.1327 | largest rank:  11\n",
      "iter: 2  | eps: 2.154e-02 | time:   0.2473 | largest rank:  21\n",
      "iter: 3  | eps: 9.241e-03 | time:   0.4350 | largest rank:  31\n",
      "iter: 4  | eps: 6.847e-03 | time:   0.7407 | largest rank:  41\n",
      "iter: 5  | eps: 5.959e-03 | time:   1.2178 | largest rank:  51\n",
      "iter: 6  | eps: 3.221e-03 | time:   1.8494 | largest rank:  61\n",
      "iter: 7  | eps: 2.623e-03 | time:   2.8452 | largest rank:  71\n",
      "iter: 8  | eps: 2.136e-03 | time:   3.9458 | largest rank:  81\n",
      "iter: 9  "
     ]
    },
    {
     "name": "stderr",
     "output_type": "stream",
     "text": [
      "WARNING:root:eps=0.00165432 (larger than 0.001) when cross-approximating <function fcn_batch_limited.<locals>.fcn_batch_truncated at 0x7f9e2415f0e0>\n"
     ]
    },
    {
     "name": "stdout",
     "output_type": "stream",
     "text": [
      "| eps: 1.654e-03 | time:   5.5393 | largest rank:  91 <- max_iter was reached: 10\n",
      "Did 18103750 function evaluations, which took 3.613s (5.01e+06 evals/s)\n",
      "\n"
     ]
    }
   ],
   "source": [
    "model = torch.load('../tt_models/reorientation.pt')\n",
    "rtt.reward_tt = model['reward_tt'].to(rtt.device)\n",
    "rtt.reward_max = rtt.get_max_a(rtt.reward_tt)[0]\n",
    "if not rtt.normalize_reward:\n",
    "    rtt.reward_max = 1.0\n",
    "else:\n",
    "    rtt.reward_max = torch.abs(rtt.get_max_a(rtt.reward_tt)[0])\n",
    "rtt.reward_normalized_tt = rtt.reward_tt*(1/rtt.reward_max)\n",
    "rtt.reward_normalized_tt.round(1e-9)\n",
    "rtt.reward_normalized_tt = rtt.reward_normalized_tt.to(rtt.device)  \n",
    "rtt.v_model = model['v_model'].to(rtt.device)\n",
    "rtt.a_model = rtt.compute_advantage_model_from_value().to(rtt.device)\n",
    "rtt.policy_model = rtt.normalize_tt_a(rtt.a_model.clone())\n",
    "rtt.policy_model_cores = rtt.policy_model.tt().cores[:]\n"
   ]
  },
  {
   "cell_type": "code",
   "execution_count": 12,
   "metadata": {},
   "outputs": [],
   "source": [
    "def contract_callback(rtt, state, policy_model, real_param, T=10,  animation=False):   \n",
    "    print(\"Testing....\")\n",
    "\n",
    "    traj = state.clone().view(1,-1,2) # time x sample x 2\n",
    "    T=int(T/dt)\n",
    "    cum_reward = torch.tensor([0.]*state.shape[0]).to(device)\n",
    "    real_state_param = torch.cat((state,real_param),dim=-1)   \n",
    "    segment = 1\n",
    "    for _ in range(int(T/segment)):\n",
    "        state = real_state_param[:,:2]\n",
    "        action = rtt.policy_ttgo_contract(state, policy_model, device)\n",
    "        r = rtt.reward_normalized(real_state_param,action)#reward_test(state,action)\n",
    "        cum_reward+=r\n",
    "        real_state_param = forward_model(real_state_param,action)\n",
    "\n",
    "        traj = torch.concat((traj,real_state_param[:,:2].view(1,-1,2)),dim=0)\n",
    "    # final_state = traj[-1, :, :2]\n",
    "    # final_err = (final_state[:,0].abs()-torch.pi).abs()\n",
    "    # print('final state:', final_state[:, 0])\n",
    "\n",
    "    # print('Average reward:', cum_reward.mean())\n",
    "    # print('Final error:', final_err.mean())\n",
    "\n",
    "    theta_t = traj[:,0,0] #torch.atan2(traj[:,1],traj[:,0])\n",
    "    from plot_utils import plt_pendulum\n",
    "    plt=plt_pendulum(theta_t.to('cpu').numpy(), figsize=5, dt=dt, scale=10, skip=10, animation=animation, name='average_advantage.mp4')\n",
    "    plt.show()\n",
    "    "
   ]
  },
  {
   "cell_type": "code",
   "execution_count": 13,
   "metadata": {},
   "outputs": [
    {
     "name": "stdout",
     "output_type": "stream",
     "text": [
      "Testing....\n"
     ]
    },
    {
     "data": {
      "image/png": "[encoded data removed]",
      "text/plain": [
       "<Figure size 360x360 with 1 Axes>"
      ]
     },
     "metadata": {
      "needs_background": "light"
     },
     "output_type": "display_data"
    }
   ],
   "source": [
    "site_x = [2, 3, 4]\n",
    "num_para = len(site_x)\n",
    "\n",
    "# state initialization\n",
    "init_state = torch.zeros((n_test,dim_state))\n",
    "for i in range(dim_state):\n",
    "    init_state[:,i] = state_min[i] + torch.rand(n_test).clip(0.0,0.75).to(device)*(state_max[i]-state_min[i])\n",
    "state = init_state.to(device)\n",
    "state[:, 0] = torch.rand(n_test).to(device)*(state_max[0])\n",
    "state[:, 1] = torch.ones_like(state[:, 1])*(state_max[1]) # maximum dtheta as initial angular velocity\n",
    "\n",
    "# param initialization\n",
    "mean_id = torch.randint(0, n_param-1, (num_para,)).to(device)\n",
    "real_param = torch.zeros(num_para).to(device)\n",
    "for i in range(num_para):\n",
    "    real_param[i] = domain_param[i][mean_id[i]]\n",
    "real_param = real_param.view(1, -1).expand(n_test, -1).to(device)\n",
    "\n",
    "# get parameter-conditioned advantage function through domain contraction\n",
    "rtt.domain_state_action = domain_state + domain_action # the previous domain_state_action is domain_state + domain_param + domain_action\n",
    "contract_policy_model = rtt.get_contract_policy(site_x=site_x, mean_id=mean_id, sigma=n_param, length=1/5*n_param, flag = 'uniform', device=device)\n",
    "\n",
    "contract_callback(rtt, state, contract_policy_model, real_param, T=T,  animation=False)"
   ]
  },
  {
   "cell_type": "code",
   "execution_count": null,
   "metadata": {},
   "outputs": [],
   "source": []
  }
 ],
 "metadata": {
  "kernelspec": {
   "display_name": "tt",
   "language": "python",
   "name": "python3"
  },
  "language_info": {
   "codemirror_mode": {
    "name": "ipython",
    "version": 3
   },
   "file_extension": ".py",
   "mimetype": "text/x-python",
   "name": "python",
   "nbconvert_exporter": "python",
   "pygments_lexer": "ipython3",
   "version": "3.7.12"
  }
 },
 "nbformat": 4,
 "nbformat_minor": 4
}
