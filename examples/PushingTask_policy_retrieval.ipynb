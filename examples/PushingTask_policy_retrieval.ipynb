{
 "cells": [
  {
   "cell_type": "code",
   "execution_count": 1,
   "metadata": {},
   "outputs": [],
   "source": [
    "import torch\n",
    "import sys\n",
    "sys.path.append('../')\n",
    "import time\n",
    "from robust_tt import RTT \n",
    "from dyn_models.pushing_dyn_general_mm import pusher_slider_sys\n",
    "torch.set_default_dtype(torch.float64)\n",
    "from tt_utils import contract_sites\n",
    "import numpy as np\n",
    "\n",
    "%load_ext autoreload\n",
    "%autoreload 2"
   ]
  },
  {
   "cell_type": "code",
   "execution_count": 2,
   "metadata": {},
   "outputs": [
    {
     "data": {
      "text/plain": [
       "device(type='cuda')"
      ]
     },
     "execution_count": 2,
     "metadata": {},
     "output_type": "execute_result"
    }
   ],
   "source": [
    "device = torch.device(\"cuda\" if torch.cuda.is_available() else \"cpu\")\n",
    "device"
   ]
  },
  {
   "cell_type": "code",
   "execution_count": 3,
   "metadata": {},
   "outputs": [],
   "source": [
    "w = 0.5\n",
    "state_max = torch.tensor([w,w,torch.pi, torch.pi, 0.05]).to(device) # (s_x, s_y, s_theta, psi, phi) \n",
    "state_min =  torch.tensor([-w,-w,-torch.pi, -torch.pi, 0]).to(device)\n",
    "\n",
    "param_max = torch.tensor([0.15, 1.5, 0.8]).to(device) #(r, mass, u_gs)\n",
    "param_min = torch.tensor([0.06, 0.5, 0.2]).to(device) #(r, mass, u_gs)\n",
    "\n",
    "# n = 100\n",
    "n_state = 50\n",
    "n_param = 100\n",
    "n_action = 50\n",
    "n_action = [n_action]*4\n",
    "\n",
    "\n",
    "v_max = 0.1\n",
    "f_max = 3\n",
    "\n",
    "u_ps = 1.0\n",
    "\n",
    "action_max = torch.tensor([f_max, u_ps*f_max, torch.pi, 0.05]).to(device) # (fc_n, fc_t, psi_next, phi_next)\n",
    "action_min = torch.tensor([0, -u_ps*f_max, -torch.pi, 0]).to(device) "
   ]
  },
  {
   "cell_type": "code",
   "execution_count": 4,
   "metadata": {},
   "outputs": [],
   "source": [
    "p_target = torch.tensor([0., 0., 0.]).view(1,-1).to(device)\n",
    "dt= 0.1\n",
    "T=50\n",
    "\n",
    "dyn_system =  pusher_slider_sys(p_target=p_target,dt=dt, device=device)"
   ]
  },
  {
   "cell_type": "code",
   "execution_count": 5,
   "metadata": {},
   "outputs": [],
   "source": [
    "domain_state = [torch.linspace(state_min[i],state_max[i],n_state).to(device) for i in range(len(state_max))]\n",
    "domain_param = [torch.linspace(param_min[i],param_max[i],n_param).to(device) for i in range(len(param_max))]\n",
    "domain_action =[torch.linspace(action_min[i],action_max[i],n_action[i]).to(device) for i in range(len(action_max))]\n",
    "domain_state_param = domain_state + domain_param"
   ]
  },
  {
   "cell_type": "code",
   "execution_count": 6,
   "metadata": {},
   "outputs": [],
   "source": [
    "def forward_model(state_param,action):\n",
    "    next_state = dyn_system.dynamics(state_param,action)\n",
    "    return next_state\n",
    "\n",
    "\n",
    "def reward(state_param,action):\n",
    "    rewards = -1*dyn_system.cost_func(state_param,action,scale=w)\n",
    "    return rewards"
   ]
  },
  {
   "cell_type": "code",
   "execution_count": 7,
   "metadata": {},
   "outputs": [],
   "source": [
    "n_test = 100\n",
    "dim_state = len(domain_state)\n",
    "init_state = torch.empty((n_test,dim_state))\n",
    "for i in range(dim_state):\n",
    "    init_state[:,i] = state_min[i] + torch.rand(n_test).clip(0.25,0.75).to(device)*(state_max[i]-state_min[i])\n",
    "state = init_state.to(device)\n"
   ]
  },
  {
   "cell_type": "code",
   "execution_count": 8,
   "metadata": {},
   "outputs": [],
   "source": [
    "rtt = RTT(domain_state=domain_state+domain_param, domain_param=domain_param,\n",
    "                domain_action=domain_action, \n",
    "                reward=reward, \n",
    "                normalize_reward=False,\n",
    "                forward_model=forward_model, \n",
    "                gamma=0.99, dt=dt,\n",
    "                rmax_v=100, rmax_a=100, \n",
    "                nswp_v=5, nswp_a=5, \n",
    "                kickrank_v=10, kickrank_a=20,\n",
    "                max_batch_v=10**4,max_batch_a=10**5,\n",
    "                eps_cross_v=1e-3,\n",
    "                eps_cross_a=1e-3,\n",
    "                eps_round_v=1e-4, \n",
    "                eps_round_a=1e-3, \n",
    "                n_samples=10, \n",
    "                verbose=True,\n",
    "                device=device) # action = 'deterministic_tt', 'stochastic_tt', 'random'"
   ]
  },
  {
   "cell_type": "code",
   "execution_count": 9,
   "metadata": {},
   "outputs": [
    {
     "name": "stdout",
     "output_type": "stream",
     "text": [
      ".....................................................\n",
      "Computing Advantage Fcn\n",
      ".....................................................\n",
      "cross device is cuda\n",
      "warning: fast C maxvol functions are not compiled, continue with python maxvol functions\n",
      "Cross-approximation over a 12D domain containing 1.95312e+21 grid points:\n",
      "iter: 0 | eps: 1.366e-01 | time:   0.2017 | largest rank:   1\n",
      "iter: 1 | eps: 1.091e-02 | time:   2.5042 | largest rank:  21\n",
      "iter: 2 | eps: 1.018e-02 | time:   6.3767 | largest rank:  41\n",
      "iter: 3 | eps: 7.597e-03 | time:  12.7295 | largest rank:  61\n",
      "iter: 4 "
     ]
    },
    {
     "name": "stderr",
     "output_type": "stream",
     "text": [
      "WARNING:root:eps=0.00605852 (larger than 0.001) when cross-approximating <function fcn_batch_limited.<locals>.fcn_batch_truncated at 0x7f6d5e473830>\n"
     ]
    },
    {
     "name": "stdout",
     "output_type": "stream",
     "text": [
      "| eps: 6.059e-03 | time:  24.0623 | largest rank:  81 <- max_iter was reached: 5\n",
      "Did 15514550 function evaluations, which took 15.19s (1.021e+06 evals/s)\n",
      "\n"
     ]
    }
   ],
   "source": [
    "model = torch.load('tt_models/pushing.pt')\n",
    "rtt.reward_tt = model['reward_tt'].to(rtt.device)\n",
    "rtt.reward_max = rtt.get_max_a(rtt.reward_tt)[0]\n",
    "if not rtt.normalize_reward:\n",
    "    rtt.reward_max = 1.0\n",
    "else:\n",
    "    rtt.reward_max = torch.abs(rtt.get_max_a(rtt.reward_tt)[0])\n",
    "rtt.reward_normalized_tt = rtt.reward_tt*(1/rtt.reward_max)\n",
    "rtt.reward_normalized_tt.round(1e-9)\n",
    "rtt.reward_normalized_tt = rtt.reward_normalized_tt.to(rtt.device)  \n",
    "rtt.v_model = model['v_model'].to(rtt.device)\n",
    "rtt.a_model = rtt.compute_advantage_model_from_value().to(rtt.device)\n",
    "rtt.policy_model = rtt.normalize_tt_a(rtt.a_model.clone())\n",
    "rtt.policy_model_cores = rtt.policy_model.tt().cores[:]\n"
   ]
  },
  {
   "cell_type": "code",
   "execution_count": 10,
   "metadata": {},
   "outputs": [
    {
     "data": {
      "image/png": "[encoded data removed]",
      "text/plain": [
       "<Figure size 720x360 with 3 Axes>"
      ]
     },
     "metadata": {
      "needs_background": "light"
     },
     "output_type": "display_data"
    }
   ],
   "source": [
    "from shape_parametrization import BasisFunctions\n",
    "data = np.load(sys.path[0]+\"/meshes/mustared_points.npy\", allow_pickle=\"True\")\n",
    "BF_ys = BasisFunctions(nbFct=4, nbSeg=20, nbIn=1, nbOut=1, nbDim=4*20*10, data=data)\n",
    "\n",
    "# compute weights\n",
    "t = np.linspace(0, 1 - 1 / BF_ys.nbDim, BF_ys.nbDim)\n",
    "BF_ys.compute_w(data, t)\n",
    "\n",
    "def compute_radius(theta):\n",
    "    #theta here is from 0 to 2*pi\n",
    "    t = (theta+np.pi)/(2*np.pi)\n",
    "    Psi, dPsi, phi = BF_ys.computePsiList1D(t)\n",
    "    x_b = Psi @ BF_ys.w_b\n",
    "    return x_b\n"
   ]
  },
  {
   "cell_type": "code",
   "execution_count": 11,
   "metadata": {},
   "outputs": [],
   "source": [
    "tol = torch.tensor([0.03, 0.03, 15/180*torch.pi]).to(device)[:3]\n",
    "slider_r = 0.01\n",
    "\n",
    "def contract_callback(rtt, state, contract_policy_model, real_param, sim_param, animation=False, file_name='file', callback_count=0):\n",
    "    # print(\"Testing....\")\n",
    "    \n",
    "    history = []\n",
    "    # param  = torch.tensor([1.,1., 0.5]).view(1,-1).expand(state.shape[0],-1).to(device)\n",
    "    traj = state[:,:].clone()[:,None,:] #bsx(T+1)x6\n",
    "    traj_actions = torch.empty(state.shape[0],T,4).to(device) #bsxTx3\n",
    "    print(\"T\", T)\n",
    "    cum_reward = torch.tensor([0.]*state.shape[0]).to(device)\n",
    "    real_state_param = torch.cat((state,real_param),dim=-1)\n",
    "    sim_state_param = torch.cat((state,sim_param),dim=-1)   \n",
    "    dt_cum = 0\n",
    "    num = 1\n",
    "    real_state = state[:,:5].clone()\n",
    "    for i in range(T):\n",
    "        # state = real_state_param[:,:5]\n",
    "        state = sim_state_param[:,:5]\n",
    "        real_state = real_state_param[:,:5]\n",
    "        t0 = time.time()\n",
    "        psi = state[:, 3].cpu().numpy()\n",
    "        radius = torch.tensor(compute_radius(psi)).to(device)\n",
    "        phi = state[:, 4].cpu().numpy()\n",
    "        sim_param = torch.cat((radius[:,None], sim_param[:,1:]), dim=-1)\n",
    "        real_param = torch.cat((radius[:,None], real_param[:,1:]), dim=-1)\n",
    "\n",
    "        real_state_param = torch.cat((real_state,real_param),dim=-1)\n",
    "        sim_state_param = torch.cat((state,sim_param),dim=-1)\n",
    "\n",
    "        action = rtt.policy_ttgo_contract(state, contract_policy_model, device)\n",
    "        t1=time.time()\n",
    "        dt_cum+=(t1-t0)\n",
    "        r = reward(real_state_param,action)\n",
    "        cum_reward+=r#reward_test(state,action)\n",
    "        real_state_param = forward_model(real_state_param,action)\n",
    "\n",
    "        sim_state_param = forward_model(sim_state_param,action)\n",
    "        p_x = [phi+compute_radius(psi)+slider_r]*np.cos(psi)\n",
    "        p_y = [phi+compute_radius(psi)+slider_r]*np.sin(psi)\n",
    "        p_x = torch.tensor(p_x[0]).to(device)\n",
    "        p_y = torch.tensor(p_y[0]).to(device)\n",
    "        traj = torch.concat((traj, torch.cat((real_state[:,None,:3], p_x[:, None, None], p_y[:, None, None]), dim=-1)),dim=1)\n",
    "        traj_actions[:,i,:]=action\n",
    "    final_state = traj[:,-1,:]\n",
    "    final_err = torch.mean(torch.norm(final_state[:,:3],dim=1))\n",
    "    print(f\"Average of final error is {final_err.mean()}\")\n",
    "    from plot_utils import plot_planarpush_general\n",
    "\n",
    "    plot_num = 1 # number of plotted tasks\n",
    "    plt=plot_planarpush_general(traj[-plot_num:].to('cpu').numpy(),\n",
    "                        traj_actions[-plot_num:].to('cpu').numpy(), \n",
    "                        animation=animation, step_skip=1, \n",
    "                        xmax=w,x_target=p_target[0].to('cpu').numpy(),figsize=6, data=data,\n",
    "                        save_as=None, file_name=file_name,\n",
    "                        scale=10)\n",
    "    plt.show()        "
   ]
  },
  {
   "cell_type": "code",
   "execution_count": 12,
   "metadata": {},
   "outputs": [
    {
     "name": "stdout",
     "output_type": "stream",
     "text": [
      "T 50\n",
      "Success rate of 100 tests is 99.0%\n",
      "Average of final error is 0.0315792727539558\n",
      "\n"
     ]
    },
    {
     "data": {
      "image/png": "[encoded data removed]",
      "text/plain": [
       "<Figure size 432x432 with 1 Axes>"
      ]
     },
     "metadata": {
      "needs_background": "light"
     },
     "output_type": "display_data"
    }
   ],
   "source": [
    "site_x = [5, 6, 7] #[radius, mass, u_gs]\n",
    "num_para = len(site_x)    \n",
    "\n",
    "# state initialization\n",
    "init_state = torch.empty((n_test,dim_state))\n",
    "for i in range(dim_state):\n",
    "    init_state[:,i] = state_min[i] + torch.rand(n_test).clip(0.25,0.75).to(device)*(state_max[i]-state_min[i])\n",
    "state = init_state.to(device)\n",
    "\n",
    "\n",
    "#param initialization\n",
    "mean_id = torch.randint(0, n_param-1, (num_para,)).to(device)\n",
    "real_param = torch.zeros(num_para).to(device)\n",
    "for i in range(num_para):\n",
    "    real_param[i] = domain_param[i][mean_id[i]]\n",
    "real_param = real_param.view(1, -1).expand(n_test, -1).to(device)\n",
    "\n",
    "# get parameter-conditioned advantage function through domain contraction\n",
    "rtt.domain_state_action = domain_state + domain_action # the previous domain_state_action is domain_state + domain_param + domain_action\n",
    "contract_policy_model = rtt.get_contract_policy(site_x=site_x, mean_id=mean_id, sigma=n_param, length=1/5*n_param, flag = 'uniform', device=device)\n",
    "\n",
    "contract_callback(rtt, state, contract_policy_model, real_param, real_param, animation=False)"
   ]
  },
  {
   "cell_type": "code",
   "execution_count": null,
   "metadata": {},
   "outputs": [],
   "source": []
  }
 ],
 "metadata": {
  "kernelspec": {
   "display_name": "robust_pl",
   "language": "python",
   "name": "python3"
  },
  "language_info": {
   "codemirror_mode": {
    "name": "ipython",
    "version": 3
   },
   "file_extension": ".py",
   "mimetype": "text/x-python",
   "name": "python",
   "nbconvert_exporter": "python",
   "pygments_lexer": "ipython3",
   "version": "3.7.16"
  }
 },
 "nbformat": 4,
 "nbformat_minor": 4
}
